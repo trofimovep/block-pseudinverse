{
 "cells": [
  {
   "cell_type": "code",
   "execution_count": 2,
   "metadata": {
    "id": "2s9ITtjo-7cC"
   },
   "outputs": [],
   "source": [
    "import numpy as np\n",
    "import math\n",
    "from multiprocessing.pool import ThreadPool as Pool\n",
    "from numpy.linalg import inv, pinv\n",
    "\n",
    "import os\n",
    "default_n_threads = 15\n",
    "os.environ['OPENBLAS_NUM_THREADS'] = f\"{default_n_threads}\"\n",
    "os.environ['MKL_NUM_THREADS'] = f\"{default_n_threads}\"\n",
    "os.environ['OMP_NUM_THREADS'] = f\"{default_n_threads}\""
   ]
  },
  {
   "cell_type": "code",
   "execution_count": 3,
   "metadata": {
    "id": "_xZ4OSaUlGq1"
   },
   "outputs": [],
   "source": [
    "def divide_into_blocks(matrix: np.ndarray, *args):\n",
    "    msize = matrix.shape\n",
    "\n",
    "    blocks_amount = None if not args else args[0]\n",
    "    if blocks_amount is None or blocks_amount == 0:\n",
    "        blocks_amount = msize[1]\n",
    "\n",
    "    if (blocks_amount > msize[1]):\n",
    "        raise Exception('Blocks amount can not be greater then amount of columns')\n",
    "\n",
    "    block_size = msize[1] // blocks_amount + (msize[1] % blocks_amount)\n",
    "\n",
    "    blocks = {}\n",
    "    start = 0\n",
    "    for b in range(blocks_amount + 1):\n",
    "        end = (start + block_size) - 1\n",
    "        if block_size == 1:\n",
    "            end = start + 1\n",
    "        if end > msize[1] - 1:\n",
    "            end = msize[1]\n",
    "\n",
    "        block = matrix[:, start:end]\n",
    "        if block.size != 0:\n",
    "          blocks[b] = block\n",
    "        start = end\n",
    "\n",
    "    return blocks"
   ]
  },
  {
   "cell_type": "code",
   "execution_count": 4,
   "metadata": {
    "id": "FwCoNyftl9NG"
   },
   "outputs": [],
   "source": [
    "def pinvblock(block: np.ndarray, block_id: int, pblocks: dict):\n",
    "  pinv_block = pinv(block)\n",
    "  pblocks[block_id] = pinv_block\n",
    "\n",
    "def pinvblocks(blocks: dict) -> dict:\n",
    "  pinvblocks = {}\n",
    "  pool = Pool(len(blocks))\n",
    "  for block_id, block in blocks.items():\n",
    "      pool.apply_async(pinvblock, (block, block_id, pinvblocks))\n",
    "  pool.close()\n",
    "  pool.join()\n",
    "  return pinvblocks"
   ]
  },
  {
   "cell_type": "code",
   "execution_count": 5,
   "metadata": {
    "id": "viehFVYcIe30"
   },
   "outputs": [],
   "source": [
    "def form_row(pblock_id: int, pblock: np.ndarray, blocks: dict, rows: dict):\n",
    "  row = []\n",
    "  for i in range(len(blocks)):\n",
    "    if i == pblock_id:\n",
    "      result = np.eye(pblock.shape[0])\n",
    "    else:\n",
    "      result = np.matmul(pblock, blocks.get(i))\n",
    "    row.append(result)\n",
    "  rows[pblock_id] = np.concatenate((row),axis=1)\n",
    "\n",
    "\n",
    "def build_Pmatrix(blocks: dict, pblocks: dict) -> np.ndarray:\n",
    "  result_rows = {}\n",
    "  pool = Pool(len(blocks))\n",
    "  for id, pblock in pblocks.items():\n",
    "    pool.apply_async(form_row, (id, pblock, blocks, result_rows))\n",
    "  pool.close()\n",
    "  pool.join()\n",
    "\n",
    "  sorted(result_rows)\n",
    "  rows = list(result_rows.values())\n",
    "  return np.concatenate(rows,axis=0)"
   ]
  },
  {
   "cell_type": "code",
   "execution_count": 6,
   "metadata": {
    "id": "MzFAvGUoGY7A"
   },
   "outputs": [],
   "source": [
    "def binv(matrix: np.ndarray, *args):\n",
    "  blocks = divide_into_blocks(matrix, *args)\n",
    "  pblocks = pinvblocks(blocks)\n",
    "  Pmatrix = build_Pmatrix(blocks, pblocks)\n",
    "  del blocks\n",
    "  inverted_Pmatrix = inv(Pmatrix)\n",
    "  sorted(pblocks)\n",
    "  pseudoinversed = np.matmul(inverted_Pmatrix, np.concatenate(list(pblocks.values()),axis=0) )\n",
    "  return pseudoinversed"
   ]
  },
  {
   "cell_type": "markdown",
   "metadata": {},
   "source": [
    "### Description\n",
    "*binv(matrix: np.ndarray, \\*args)* -  the function which returns the Moore-Penrouse pseudo-inversed matrix for full column rank case using block inversion (the formula requires $A^+A=E$). \\\n",
    "Let $A=[A_1 A_2 \\dots A_n]$ - full column rank (block) matrix, then the pseudoinversed matrix can be calculated by \n",
    "$$A^+ = [A_1 A_2 \\dots A_n]^+=\\begin{bmatrix}\n",
    "        \\begin{bmatrix}\n",
    "            A_1^+ \\\\\n",
    "            A_2^+ \\\\\n",
    "            \\dots \\\\\n",
    "            A_n^+ \\\\\n",
    "        \\end{bmatrix}\n",
    "        [A_1 A_2 \\dots A_n]\n",
    "    \\end{bmatrix}^{-1}      \\begin{bmatrix}\n",
    "            A_1^+ \\\\\n",
    "            A_2^+ \\\\\n",
    "            \\dots \\\\\n",
    "            A_n^+ \\\\\n",
    "        \\end{bmatrix}.$$\n",
    "        \n",
    "\n",
    "### Usage\n",
    "By default *binv(matrix: np.ndarray)* receives only matrix. Then it counts that each column is a different block. In that case, there is no advantage and the time of pseudoinversion is equal to the standard function *pinv*. \\\n",
    "**!** For effective calculation pass the amount of blocks in matrix *binv(matrix: np.ndarray, blocks_amount: int)*. Then each block will be calculated in a different thread. \n",
    "### Examples\n",
    "    - binv(np.random.rand(columns, rows)) \n",
    "    - binv(np.random.rand(columns, rows), 10)\n",
    "**Note.** To satisfy the full column rank condition there should be $columns \\geq rows$"
   ]
  },
  {
   "cell_type": "code",
   "execution_count": null,
   "metadata": {},
   "outputs": [],
   "source": []
  }
 ],
 "metadata": {
  "colab": {
   "provenance": []
  },
  "kernelspec": {
   "display_name": "Python 3 (ipykernel)",
   "language": "python",
   "name": "python3"
  },
  "language_info": {
   "codemirror_mode": {
    "name": "ipython",
    "version": 3
   },
   "file_extension": ".py",
   "mimetype": "text/x-python",
   "name": "python",
   "nbconvert_exporter": "python",
   "pygments_lexer": "ipython3",
   "version": "3.11.7"
  }
 },
 "nbformat": 4,
 "nbformat_minor": 4
}
